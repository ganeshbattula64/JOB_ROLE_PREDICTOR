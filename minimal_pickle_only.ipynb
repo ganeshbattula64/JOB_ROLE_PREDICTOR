{
 "cells": [
  {
   "cell_type": "code",
   "execution_count": null,
   "id": "a21f8072",
   "metadata": {},
   "outputs": [],
   "source": [
    "\n",
    "# Install only what's necessary\n",
    "!pip install -q pandas scikit-learn joblib nltk\n",
    "\n",
    "import pandas as pd\n",
    "import joblib\n",
    "import re\n",
    "import nltk\n",
    "from nltk.corpus import stopwords\n",
    "from nltk.tokenize import word_tokenize\n",
    "\n",
    "from sklearn.model_selection import train_test_split\n",
    "from sklearn.pipeline import Pipeline\n",
    "from sklearn.feature_extraction.text import TfidfVectorizer\n",
    "from sklearn.ensemble import RandomForestClassifier\n",
    "from sklearn.metrics import accuracy_score\n",
    "\n",
    "nltk.download('punkt')\n",
    "nltk.download('stopwords')\n"
   ]
  },
  {
   "cell_type": "code",
   "execution_count": null,
   "id": "92573137",
   "metadata": {},
   "outputs": [],
   "source": [
    "\n",
    "# Define preprocessing function\n",
    "def preprocess_text(text):\n",
    "    text = text.lower()\n",
    "    text = re.sub(r'[^a-zA-Z\\s]', '', text)\n",
    "    words = word_tokenize(text)\n",
    "    stop_words = set(stopwords.words(\"english\"))\n",
    "    words = [word for word in words if word not in stop_words]\n",
    "    return \" \".join(words)\n"
   ]
  },
  {
   "cell_type": "code",
   "execution_count": null,
   "id": "e0487bb6",
   "metadata": {},
   "outputs": [],
   "source": [
    "\n",
    "# Load and preprocess dataset\n",
    "df = pd.read_csv(\"dataset.csv\")\n",
    "df[\"resume_text\"] = df[\"resume_text\"].astype(str).apply(preprocess_text)\n",
    "X_train, X_test, y_train, y_test = train_test_split(df[\"resume_text\"], df[\"job_role\"], test_size=0.2, random_state=42)\n"
   ]
  },
  {
   "cell_type": "code",
   "execution_count": null,
   "id": "352ae9e7",
   "metadata": {},
   "outputs": [],
   "source": [
    "\n",
    "# Train model\n",
    "pipeline = Pipeline([\n",
    "    ('tfidf', TfidfVectorizer()),\n",
    "    ('clf', RandomForestClassifier(n_estimators=200, random_state=42))\n",
    "])\n",
    "pipeline.fit(X_train, y_train)\n"
   ]
  },
  {
   "cell_type": "code",
   "execution_count": null,
   "id": "a5b67470",
   "metadata": {},
   "outputs": [],
   "source": [
    "\n",
    "# Save the trained model\n",
    "joblib.dump(pipeline, \"trained_job_role_model.pkl\")\n",
    "print(\"Pickle file saved as trained_job_role_model.pkl\")\n"
   ]
  }
 ],
 "metadata": {},
 "nbformat": 4,
 "nbformat_minor": 5
}
